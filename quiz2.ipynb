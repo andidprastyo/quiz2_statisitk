{
 "cells": [
  {
   "attachments": {},
   "cell_type": "markdown",
   "metadata": {},
   "source": [
    "# Quiz 2 Mata Kuliah Statisitk Komputasi\n",
    "\n",
    "Nama : Andi Dwi Prastyo<br>\n",
    "NIM : 2141720046<br>\n",
    "Absen : 09 <br>\n",
    "Kelas : TI-2D"
   ]
  },
  {
   "attachments": {},
   "cell_type": "markdown",
   "metadata": {},
   "source": [
    "### Soal 1\n",
    "Rata-rata konsentrasi kolesterol darah pada populasi dalam jumlah besar pria dewasa usia 50-60 tahun \n",
    "adalah 200mg/dl dengan simpangan baku 20mg/dl. Dianggap pengukuran kolesterol bersebaran \n",
    "normal. Berapakah peluang bahwa 100 pria dari kelompok umum ini akan memiliki kolesterol di \n",
    "bawah 204 ml/dl?\n"
   ]
  },
  {
   "cell_type": "code",
   "execution_count": 3,
   "metadata": {},
   "outputs": [
    {
     "name": "stdout",
     "output_type": "stream",
     "text": [
      "Peluang bahwa 100 pria memiliki kolesterol di bawah 204 mg/dl:\n",
      "0.4207\n"
     ]
    }
   ],
   "source": [
    "import scipy.stats as stats\n",
    "\n",
    "mean = 200  \n",
    "std_dev = 20  \n",
    "n = 100  \n",
    "\n",
    "# Menghitung z-score \n",
    "z_score = (204 - mean) / std_dev\n",
    "\n",
    "# Menghitung peluang \n",
    "probability = 1 - stats.norm.cdf(z_score)\n",
    "\n",
    "# Menampilkan hasil\n",
    "print(\"Peluang bahwa 100 pria memiliki kolesterol di bawah 204 mg/dl:\")\n",
    "print(f\"{probability:.4f}\")\n"
   ]
  },
  {
   "attachments": {},
   "cell_type": "markdown",
   "metadata": {},
   "source": [
    "### Soal 2\n",
    "\n",
    "Misalkan spesies tanaman tertentu dengan populasi tidak diketahui (sangat banyak) memiliki varians \n",
    "tinggi 16 cm. Diambil sampel sebanyak 25 secara acak kemudian diperoleh rata-rata tingginya adalah \n",
    "15 cm. Hitunglah rentang nilai rata-rata populasi dari tinggi tanaman tersebut dengan tingkat \n",
    "kepercayaan 95%.\n"
   ]
  },
  {
   "cell_type": "code",
   "execution_count": 4,
   "metadata": {},
   "outputs": [
    {
     "name": "stdout",
     "output_type": "stream",
     "text": [
      "Rentang nilai rata-rata populasi dengan tingkat kepercayaan 95%:\n",
      "(13.348881150697583, 16.651118849302417)\n"
     ]
    }
   ],
   "source": [
    "import scipy.stats as stats\n",
    "import math\n",
    "\n",
    "sample_mean = 15  \n",
    "sample_size = 25  \n",
    "varians_populasi = 16  \n",
    "\n",
    "# Menghitung standar deviasi populasi\n",
    "std_dev_populasi = math.sqrt(varians_populasi)\n",
    "\n",
    "# Menghitung batas atas dan batas bawah interval kepercayaan\n",
    "alpha = 0.05 \n",
    "critical_value = stats.t.ppf(1 - alpha/2, df=sample_size-1)\n",
    "margin_of_error = critical_value * (std_dev_populasi / math.sqrt(sample_size))\n",
    "confidence_interval = (sample_mean - margin_of_error, sample_mean + margin_of_error)\n",
    "\n",
    "print(\"Rentang nilai rata-rata populasi dengan tingkat kepercayaan 95%:\")\n",
    "print(confidence_interval)\n"
   ]
  },
  {
   "attachments": {},
   "cell_type": "markdown",
   "metadata": {},
   "source": [
    "### Soal 3\n",
    "\n",
    "Dalam sebuah penelitian, dilakukan eksperimen terhadap dua buah kelompok untuk mengetahui \n",
    "dampak penggunaan tool pembelajaran. Dari data yang diberikan, tentukan :<br>\n",
    "a. Tentukan simpangan baku untuk kelompok “dengan tool”!<br>\n",
    "b. Tentukan simpangan baku untuk kelompok “tanpa tool”! <br>\n",
    "c. Apakah kedua kelompok tersebut homogen? Lengkapi jawaban Anda dengan hasil \n",
    "analisis dengan menggunakan Uji Harley."
   ]
  },
  {
   "cell_type": "code",
   "execution_count": 5,
   "metadata": {},
   "outputs": [],
   "source": [
    "import numpy as np\n",
    "from scipy.stats import f\n",
    "\n",
    "# Inisiasi data\n",
    "data = np.array([[32, 29],\n",
    "                 [31, 30],\n",
    "                 [32, 27],\n",
    "                 [32, 28],\n",
    "                 [33, 26],\n",
    "                 [35, 27],\n",
    "                 [32, 31],\n",
    "                 [34, 27],\n",
    "                 [31, 26],\n",
    "                 [29, 28],\n",
    "                 [36, 27],\n",
    "                 [30, 24],\n",
    "                 [33, 25]])"
   ]
  },
  {
   "cell_type": "code",
   "execution_count": 6,
   "metadata": {},
   "outputs": [
    {
     "name": "stdout",
     "output_type": "stream",
     "text": [
      "Simpangan Baku Kelompok dengan tool :  1.8557443202792028\n"
     ]
    }
   ],
   "source": [
    "# a. Simpangan Baku Kelompok \"dengan Tool\"\n",
    "std_dev_dengan_tool = np.std(data[:, 0])\n",
    "print(\"Simpangan Baku Kelompok dengan tool : \", std_dev_dengan_tool)"
   ]
  },
  {
   "cell_type": "code",
   "execution_count": 7,
   "metadata": {},
   "outputs": [
    {
     "name": "stdout",
     "output_type": "stream",
     "text": [
      "Simpangan Baku Kelompok tanpa tool :  1.855744320279203\n"
     ]
    }
   ],
   "source": [
    "# b. Simpangan Baku Kelompok \"tanpa Tool\"\n",
    "std_dev_tanpa_tool = np.std(data[:, 1])\n",
    "print(\"Simpangan Baku Kelompok tanpa tool : \", std_dev_tanpa_tool)"
   ]
  },
  {
   "cell_type": "code",
   "execution_count": 8,
   "metadata": {},
   "outputs": [
    {
     "name": "stdout",
     "output_type": "stream",
     "text": [
      "Varians kelompok dengan tool :  3.4437869822485205\n",
      "Varians kelompok tanpa tool :  3.443786982248521\n",
      "F-Ratio :  0.9999999999999999\n",
      "Critical Value :  2.686637112495684\n",
      "Kedua kelompok tersebut bersifat Homogen\n"
     ]
    }
   ],
   "source": [
    "from scipy.stats import f\n",
    "\n",
    "# Menghitung Varians\n",
    "\n",
    "var_dengan_tool = np.var(data[:, 0])\n",
    "var_tanpa_tool = np.var(data[:, 1])\n",
    "\n",
    "print(\"Varians kelompok dengan tool : \", var_dengan_tool)\n",
    "print(\"Varians kelompok tanpa tool : \", var_tanpa_tool)\n",
    "\n",
    "# Menghitung F-Ratio\n",
    "F_ratio = var_dengan_tool / var_tanpa_tool\n",
    "\n",
    "# Menentukan critical value untuk uji Hartley\n",
    "alpha = 0.05\n",
    "dof_num = len(data[:, 0]) - 1  \n",
    "dof_den = len(data[:, 1]) - 1  \n",
    "critical_value = f.ppf(1 - alpha, dof_num, dof_den)\n",
    "\n",
    "print(\"F-Ratio : \", F_ratio)\n",
    "print(\"Critical Value : \", critical_value)\n",
    "\n",
    "if F_ratio < critical_value :\n",
    "  print(\"Kedua kelompok tersebut bersifat Homogen\")\n",
    "else:\n",
    "  print(\"Kedua kelompok tersebut tidak Homogen\")\n"
   ]
  },
  {
   "attachments": {},
   "cell_type": "markdown",
   "metadata": {},
   "source": [
    "### Soal 4\n",
    "\n",
    "Terdapat sebuah data kondisi cuaca di daerah Szeged, Hongaria tahun 2006 – 2016. Data direkam \n",
    "pada internal setiap satu jam sekali. Sebagai seorang analis data, Anda diminta untuk memastikan \n",
    "bahwa data ini baik karena teman Anda akan melakukan permodelan regresi linier untuk memprediksi \n",
    "cuaca ke depan. Tugas Anda adalah, <br><br>\n",
    "a. Gunakan uji KS untuk menentukan apakah atribut “Temprature” terdistribusi secara \n",
    "normal. Anda diminta untuk menggunakan p-value sebesar 0.05. Apakah “Temperature” \n",
    "terdistribusi normal? Berapa nilai KS-nya? <br><br>\n",
    "b. Buatlah histogram dari “Temprature” untuk memastikan nilai yang Anda dapat dari poin a <br><br>\n",
    "c. Gunakan uji KS untuk menentukan apakah atribut “Humidity” terdistribusi secara normal. \n",
    "Tingkat kepercayaan yang diinginkan adalah 99%. Apakah “Humidity” terdistribusi \n",
    "normal? Berapa nilai KS-nya? <br><br>\n",
    "d. Buatlah histogram dari “Humidity” untuk memastikan apakah nilai yang dapat dari poin \n"
   ]
  },
  {
   "cell_type": "code",
   "execution_count": 32,
   "metadata": {},
   "outputs": [
    {
     "data": {
      "text/html": [
       "<div>\n",
       "<style scoped>\n",
       "    .dataframe tbody tr th:only-of-type {\n",
       "        vertical-align: middle;\n",
       "    }\n",
       "\n",
       "    .dataframe tbody tr th {\n",
       "        vertical-align: top;\n",
       "    }\n",
       "\n",
       "    .dataframe thead th {\n",
       "        text-align: right;\n",
       "    }\n",
       "</style>\n",
       "<table border=\"1\" class=\"dataframe\">\n",
       "  <thead>\n",
       "    <tr style=\"text-align: right;\">\n",
       "      <th></th>\n",
       "      <th>Formatted Date</th>\n",
       "      <th>Summary</th>\n",
       "      <th>Precip Type</th>\n",
       "      <th>Temperature (C)</th>\n",
       "      <th>Apparent Temperature (C)</th>\n",
       "      <th>Humidity</th>\n",
       "      <th>Wind Speed (km/h)</th>\n",
       "      <th>Wind Bearing (degrees)</th>\n",
       "      <th>Visibility (km)</th>\n",
       "      <th>Loud Cover</th>\n",
       "      <th>Pressure (millibars)</th>\n",
       "      <th>Daily Summary</th>\n",
       "    </tr>\n",
       "  </thead>\n",
       "  <tbody>\n",
       "    <tr>\n",
       "      <th>0</th>\n",
       "      <td>2006-04-01 00:00:00.000 +0200</td>\n",
       "      <td>Partly Cloudy</td>\n",
       "      <td>rain</td>\n",
       "      <td>9.472222</td>\n",
       "      <td>7.388889</td>\n",
       "      <td>0.89</td>\n",
       "      <td>14.1197</td>\n",
       "      <td>251.0</td>\n",
       "      <td>15.8263</td>\n",
       "      <td>0.0</td>\n",
       "      <td>1015.13</td>\n",
       "      <td>Partly cloudy throughout the day.</td>\n",
       "    </tr>\n",
       "    <tr>\n",
       "      <th>1</th>\n",
       "      <td>2006-04-01 01:00:00.000 +0200</td>\n",
       "      <td>Partly Cloudy</td>\n",
       "      <td>rain</td>\n",
       "      <td>9.355556</td>\n",
       "      <td>7.227778</td>\n",
       "      <td>0.86</td>\n",
       "      <td>14.2646</td>\n",
       "      <td>259.0</td>\n",
       "      <td>15.8263</td>\n",
       "      <td>0.0</td>\n",
       "      <td>1015.63</td>\n",
       "      <td>Partly cloudy throughout the day.</td>\n",
       "    </tr>\n",
       "    <tr>\n",
       "      <th>2</th>\n",
       "      <td>2006-04-01 02:00:00.000 +0200</td>\n",
       "      <td>Mostly Cloudy</td>\n",
       "      <td>rain</td>\n",
       "      <td>9.377778</td>\n",
       "      <td>9.377778</td>\n",
       "      <td>0.89</td>\n",
       "      <td>3.9284</td>\n",
       "      <td>204.0</td>\n",
       "      <td>14.9569</td>\n",
       "      <td>0.0</td>\n",
       "      <td>1015.94</td>\n",
       "      <td>Partly cloudy throughout the day.</td>\n",
       "    </tr>\n",
       "    <tr>\n",
       "      <th>3</th>\n",
       "      <td>2006-04-01 03:00:00.000 +0200</td>\n",
       "      <td>Partly Cloudy</td>\n",
       "      <td>rain</td>\n",
       "      <td>8.288889</td>\n",
       "      <td>5.944444</td>\n",
       "      <td>0.83</td>\n",
       "      <td>14.1036</td>\n",
       "      <td>269.0</td>\n",
       "      <td>15.8263</td>\n",
       "      <td>0.0</td>\n",
       "      <td>1016.41</td>\n",
       "      <td>Partly cloudy throughout the day.</td>\n",
       "    </tr>\n",
       "    <tr>\n",
       "      <th>4</th>\n",
       "      <td>2006-04-01 04:00:00.000 +0200</td>\n",
       "      <td>Mostly Cloudy</td>\n",
       "      <td>rain</td>\n",
       "      <td>8.755556</td>\n",
       "      <td>6.977778</td>\n",
       "      <td>0.83</td>\n",
       "      <td>11.0446</td>\n",
       "      <td>259.0</td>\n",
       "      <td>15.8263</td>\n",
       "      <td>0.0</td>\n",
       "      <td>1016.51</td>\n",
       "      <td>Partly cloudy throughout the day.</td>\n",
       "    </tr>\n",
       "  </tbody>\n",
       "</table>\n",
       "</div>"
      ],
      "text/plain": [
       "                  Formatted Date        Summary Precip Type  Temperature (C)   \n",
       "0  2006-04-01 00:00:00.000 +0200  Partly Cloudy        rain         9.472222  \\\n",
       "1  2006-04-01 01:00:00.000 +0200  Partly Cloudy        rain         9.355556   \n",
       "2  2006-04-01 02:00:00.000 +0200  Mostly Cloudy        rain         9.377778   \n",
       "3  2006-04-01 03:00:00.000 +0200  Partly Cloudy        rain         8.288889   \n",
       "4  2006-04-01 04:00:00.000 +0200  Mostly Cloudy        rain         8.755556   \n",
       "\n",
       "   Apparent Temperature (C)  Humidity  Wind Speed (km/h)   \n",
       "0                  7.388889      0.89            14.1197  \\\n",
       "1                  7.227778      0.86            14.2646   \n",
       "2                  9.377778      0.89             3.9284   \n",
       "3                  5.944444      0.83            14.1036   \n",
       "4                  6.977778      0.83            11.0446   \n",
       "\n",
       "   Wind Bearing (degrees)  Visibility (km)  Loud Cover  Pressure (millibars)   \n",
       "0                   251.0          15.8263         0.0               1015.13  \\\n",
       "1                   259.0          15.8263         0.0               1015.63   \n",
       "2                   204.0          14.9569         0.0               1015.94   \n",
       "3                   269.0          15.8263         0.0               1016.41   \n",
       "4                   259.0          15.8263         0.0               1016.51   \n",
       "\n",
       "                       Daily Summary  \n",
       "0  Partly cloudy throughout the day.  \n",
       "1  Partly cloudy throughout the day.  \n",
       "2  Partly cloudy throughout the day.  \n",
       "3  Partly cloudy throughout the day.  \n",
       "4  Partly cloudy throughout the day.  "
      ]
     },
     "execution_count": 32,
     "metadata": {},
     "output_type": "execute_result"
    }
   ],
   "source": [
    "import pandas as pd\n",
    "\n",
    "# Membaca data\n",
    "df = pd.read_csv(\"./weatherHistory.csv\")\n",
    "temperature = df[\"Temperature (C)\"]\n",
    "humidity = df[\"Humidity\"]\n",
    "df.head()"
   ]
  },
  {
   "cell_type": "code",
   "execution_count": 40,
   "metadata": {},
   "outputs": [
    {
     "name": "stdout",
     "output_type": "stream",
     "text": [
      "KS Statistic: KstestResult(statistic=0.8187651455395293, pvalue=0.0, statistic_location=2.105555555555555, statistic_sign=-1)\n",
      "P-value: 0.05\n",
      "Distribusi data normal\n"
     ]
    }
   ],
   "source": [
    "# a. Uji Kosmologorov-Smirnov\n",
    "from scipy.stats import kstest, norm\n",
    "\n",
    "# Melakukan uji KS dengan p_value = 0.05\n",
    "alpha = 0.05\n",
    "ks_stat = kstest(temperature, norm.cdf)\n",
    "p_value = 0.05\n",
    "\n",
    "print(\"KS Statistic:\", ks_stat)\n",
    "print(\"P-value:\", p_value)\n",
    "\n",
    "if p_value >= alpha:\n",
    "    print(\"Distribusi data normal\")\n",
    "else:\n",
    "    print(\"Distribusi data tidak normal\")"
   ]
  },
  {
   "cell_type": "code",
   "execution_count": 29,
   "metadata": {},
   "outputs": [
    {
     "data": {
      "image/png": "[encoded data removed]",
      "text/plain": [
       "<Figure size 640x480 with 1 Axes>"
      ]
     },
     "metadata": {},
     "output_type": "display_data"
    }
   ],
   "source": [
    "# Grafik distribusi data\n",
    "import matplotlib.pyplot as plt\n",
    "\n",
    "plt.hist(temperature, bins=100)\n",
    "plt.xlabel(\"Temperature (C)\")\n",
    "plt.ylabel(\"Frekuensi\")\n",
    "plt.title(\"Distribusi Data Temperatur\")\n",
    "plt.show()"
   ]
  },
  {
   "cell_type": "code",
   "execution_count": 42,
   "metadata": {},
   "outputs": [
    {
     "name": "stdout",
     "output_type": "stream",
     "text": [
      "KS Statistic: 0.5990171816042561\n",
      "P-value: 0.0\n",
      "Distribusi data tidak normal\n"
     ]
    }
   ],
   "source": [
    "# b. Uji Kosmologorov-Smirnov\n",
    "\n",
    "# Melakukan uji KS humidity dengan tingkat kepercayaan 99%\n",
    "\n",
    "alpha = 0.01\n",
    "ks_stat, p_value = kstest(humidity, norm.cdf)\n",
    "\n",
    "print(\"KS Statistic:\", ks_stat)\n",
    "print(\"P-value:\", p_value)\n",
    "\n",
    "if p_value >= alpha:\n",
    "    print(\"Distribusi data normal\")\n",
    "else:\n",
    "    print(\"Distribusi data tidak normal\")"
   ]
  },
  {
   "cell_type": "code",
   "execution_count": 38,
   "metadata": {},
   "outputs": [
    {
     "data": {
      "image/png": "[encoded data removed]",
      "text/plain": [
       "<Figure size 640x480 with 1 Axes>"
      ]
     },
     "metadata": {},
     "output_type": "display_data"
    }
   ],
   "source": [
    "# Grafik distribusi data\n",
    "\n",
    "plt.hist(humidity, bins=100)\n",
    "plt.xlabel(\"Humidity\")\n",
    "plt.ylabel(\"Frekuensi\")\n",
    "plt.title(\"Distribusi Data Humidity\")\n",
    "plt.show()"
   ]
  }
 ],
 "metadata": {
  "kernelspec": {
   "display_name": ".venv",
   "language": "python",
   "name": "python3"
  },
  "language_info": {
   "codemirror_mode": {
    "name": "ipython",
    "version": 3
   },
   "file_extension": ".py",
   "mimetype": "text/x-python",
   "name": "python",
   "nbconvert_exporter": "python",
   "pygments_lexer": "ipython3",
   "version": "3.10.9"
  },
  "orig_nbformat": 4
 },
 "nbformat": 4,
 "nbformat_minor": 2
}
