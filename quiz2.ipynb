{
 "cells": [
  {
   "attachments": {},
   "cell_type": "markdown",
   "metadata": {},
   "source": [
    "# Quiz 2 Mata Kuliah Statisitk Komputasi\n",
    "\n",
    "Nama : Andi Dwi Prastyo<br>\n",
    "NIM : 2141720046<br>\n",
    "Absen : 09\n",
    "Kelas : TI-2D"
   ]
  },
  {
   "attachments": {},
   "cell_type": "markdown",
   "metadata": {},
   "source": [
    "### Soal 1\n",
    "Rata-rata konsentrasi kolesterol darah pada populasi dalam jumlah besar pria dewasa usia 50-60 tahun \n",
    "adalah 200mg/dl dengan simpangan baku 20mg/dl. Dianggap pengukuran kolesterol bersebaran \n",
    "normal. Berapakah peluang bahwa 100 pria dari kelompok umum ini akan memiliki kolesterol di \n",
    "bawah 204 ml/dl?\n"
   ]
  },
  {
   "cell_type": "code",
   "execution_count": 3,
   "metadata": {},
   "outputs": [
    {
     "name": "stdout",
     "output_type": "stream",
     "text": [
      "Peluang bahwa 100 pria memiliki kolesterol di bawah 204 mg/dl:\n",
      "0.4207\n"
     ]
    }
   ],
   "source": [
    "import scipy.stats as stats\n",
    "\n",
    "mean = 200  # Rata-rata\n",
    "std_dev = 20  # Simpangan baku\n",
    "n = 100  # Jumlah pria\n",
    "\n",
    "# Menghitung z-score (standar score) dari nilai batas kolesterol\n",
    "z_score = (204 - mean) / std_dev\n",
    "\n",
    "# Menghitung peluang menggunakan fungsi kumulatif distribusi normal standar\n",
    "probability = 1 - stats.norm.cdf(z_score)\n",
    "\n",
    "# Menampilkan hasil\n",
    "print(\"Peluang bahwa 100 pria memiliki kolesterol di bawah 204 mg/dl:\")\n",
    "print(f\"{probability:.4f}\")\n"
   ]
  },
  {
   "attachments": {},
   "cell_type": "markdown",
   "metadata": {},
   "source": [
    "### Soal 2\n",
    "\n",
    "Misalkan spesies tanaman tertentu dengan populasi tidak diketahui (sangat banyak) memiliki varians \n",
    "tinggi 16 cm. Diambil sampel sebanyak 25 secara acak kemudian diperoleh rata-rata tingginya adalah \n",
    "15 cm. Hitunglah rentang nilai rata-rata populasi dari tinggi tanaman tersebut dengan tingkat \n",
    "kepercayaan 95%.\n"
   ]
  },
  {
   "cell_type": "code",
   "execution_count": 4,
   "metadata": {},
   "outputs": [
    {
     "name": "stdout",
     "output_type": "stream",
     "text": [
      "Rentang nilai rata-rata populasi dengan tingkat kepercayaan 95%:\n",
      "(13.348881150697583, 16.651118849302417)\n"
     ]
    }
   ],
   "source": [
    "import scipy.stats as stats\n",
    "import math\n",
    "\n",
    "sample_mean = 15  \n",
    "sample_size = 25  \n",
    "varians_populasi = 16  \n",
    "\n",
    "# Menghitung standar deviasi populasi\n",
    "std_dev_populasi = math.sqrt(varians_populasi)\n",
    "\n",
    "# Menghitung batas atas dan batas bawah interval kepercayaan\n",
    "alpha = 0.05 \n",
    "critical_value = stats.t.ppf(1 - alpha/2, df=sample_size-1)\n",
    "margin_of_error = critical_value * (std_dev_populasi / math.sqrt(sample_size))\n",
    "confidence_interval = (sample_mean - margin_of_error, sample_mean + margin_of_error)\n",
    "\n",
    "# Menampilkan hasil\n",
    "print(\"Rentang nilai rata-rata populasi dengan tingkat kepercayaan 95%:\")\n",
    "print(confidence_interval)\n"
   ]
  },
  {
   "attachments": {},
   "cell_type": "markdown",
   "metadata": {},
   "source": [
    "### Soal 3\n",
    "\n",
    "Dalam sebuah penelitian, dilakukan eksperimen terhadap dua buah kelompok untuk mengetahui \n",
    "dampak penggunaan tool pembelajaran. Dari data yang diberikan, tentukan :<br>\n",
    "a. Tentukan simpangan baku untuk kelompok “dengan tool”!<br>\n",
    "b. Tentukan simpangan baku untuk kelompok “tanpa tool”! <br>\n",
    "c. Apakah kedua kelompok tersebut homogen? Lengkapi jawaban Anda dengan hasil \n",
    "analisis dengan menggunakan Uji Harley."
   ]
  },
  {
   "cell_type": "code",
   "execution_count": 5,
   "metadata": {},
   "outputs": [],
   "source": [
    "import numpy as np\n",
    "from scipy.stats import f\n",
    "\n",
    "# Inisiasi data\n",
    "data = np.array([[32, 29],\n",
    "                 [31, 30],\n",
    "                 [32, 27],\n",
    "                 [32, 28],\n",
    "                 [33, 26],\n",
    "                 [35, 27],\n",
    "                 [32, 31],\n",
    "                 [34, 27],\n",
    "                 [31, 26],\n",
    "                 [29, 28],\n",
    "                 [36, 27],\n",
    "                 [30, 24],\n",
    "                 [33, 25]])"
   ]
  },
  {
   "cell_type": "code",
   "execution_count": 6,
   "metadata": {},
   "outputs": [
    {
     "name": "stdout",
     "output_type": "stream",
     "text": [
      "Simpangan Baku Kelompok dengan tool :  1.8557443202792028\n"
     ]
    }
   ],
   "source": [
    "# a. Simpangan Baku Kelompok \"dengan Tool\"\n",
    "std_dev_dengan_tool = np.std(data[:, 0])\n",
    "print(\"Simpangan Baku Kelompok dengan tool : \", std_dev_dengan_tool)"
   ]
  },
  {
   "cell_type": "code",
   "execution_count": 7,
   "metadata": {},
   "outputs": [
    {
     "name": "stdout",
     "output_type": "stream",
     "text": [
      "Simpangan Baku Kelompok tanpa tool :  1.855744320279203\n"
     ]
    }
   ],
   "source": [
    "# b. Simpangan Baku Kelompok \"tanpa Tool\"\n",
    "std_dev_tanpa_tool = np.std(data[:, 1])\n",
    "print(\"Simpangan Baku Kelompok tanpa tool : \", std_dev_tanpa_tool)"
   ]
  },
  {
   "cell_type": "code",
   "execution_count": 8,
   "metadata": {},
   "outputs": [
    {
     "name": "stdout",
     "output_type": "stream",
     "text": [
      "Varians kelompok dengan tool :  3.4437869822485205\n",
      "Varians kelompok tanpa tool :  3.443786982248521\n",
      "F-Ratio :  0.9999999999999999\n",
      "Critical Value :  2.686637112495684\n",
      "Kedua kelompok tersebut bersifat Homogen\n"
     ]
    }
   ],
   "source": [
    "from scipy.stats import f\n",
    "\n",
    "# Menghitung Varians\n",
    "\n",
    "var_dengan_tool = np.var(data[:, 0])\n",
    "var_tanpa_tool = np.var(data[:, 1])\n",
    "\n",
    "print(\"Varians kelompok dengan tool : \", var_dengan_tool)\n",
    "print(\"Varians kelompok tanpa tool : \", var_tanpa_tool)\n",
    "\n",
    "# Menghitung F-Ratio\n",
    "F_ratio = var_dengan_tool / var_tanpa_tool\n",
    "\n",
    "# Menentukan critical value untuk uji Hartley\n",
    "alpha = 0.05\n",
    "dof_num = len(data[:, 0]) - 1  \n",
    "dof_den = len(data[:, 1]) - 1  \n",
    "critical_value = f.ppf(1 - alpha, dof_num, dof_den)\n",
    "\n",
    "print(\"F-Ratio : \", F_ratio)\n",
    "print(\"Critical Value : \", critical_value)\n",
    "\n",
    "if F_ratio < critical_value :\n",
    "  print(\"Kedua kelompok tersebut bersifat Homogen\")\n",
    "else:\n",
    "  print(\"Kedua kelompok tersebut tidak Homogen\")\n"
   ]
  }
 ],
 "metadata": {
  "kernelspec": {
   "display_name": ".venv",
   "language": "python",
   "name": "python3"
  },
  "language_info": {
   "codemirror_mode": {
    "name": "ipython",
    "version": 3
   },
   "file_extension": ".py",
   "mimetype": "text/x-python",
   "name": "python",
   "nbconvert_exporter": "python",
   "pygments_lexer": "ipython3",
   "version": "3.10.9"
  },
  "orig_nbformat": 4
 },
 "nbformat": 4,
 "nbformat_minor": 2
}
